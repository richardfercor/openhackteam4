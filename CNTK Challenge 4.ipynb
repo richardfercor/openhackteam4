{
 "cells": [
  {
   "cell_type": "code",
   "execution_count": 2,
   "metadata": {},
   "outputs": [],
   "source": [
    "from __future__ import print_function # Use a function definition from future version (say 3.x from 2.7 interpreter)\n",
    "\n",
    "import matplotlib.pyplot as plt\n",
    "import math\n",
    "import numpy as np\n",
    "import os\n",
    "import PIL\n",
    "import sys\n",
    "try:\n",
    "    from urllib.request import urlopen\n",
    "except ImportError:\n",
    "    from urllib import urlopen\n",
    "\n",
    "import cntk as C"
   ]
  },
  {
   "cell_type": "code",
   "execution_count": null,
   "metadata": {},
   "outputs": [],
   "source": []
  },
  {
   "cell_type": "code",
   "execution_count": 54,
   "metadata": {},
   "outputs": [],
   "source": [
    "labels_master=['axes','boots','carabiners','crampons','gloves','hardshell_jackets','harnesses','helmets','insulated_jackets','pulleys','rope','tents']\n",
    "\n",
    "def saveTxt(filename, ndarray):\n",
    "    with open(os.path.join(path_txt,filename), 'w') as f:\n",
    "        for row in ndarray:\n",
    "            row_str = row.astype(str)\n",
    "            label_str = str(labels_master.index(row[-1]))\n",
    "            feature_str = ' '.join(row_str[:-1])\n",
    "            f.write(feature_str + '\\t' +label_str +'\\n')"
   ]
  },
  {
   "cell_type": "code",
   "execution_count": 55,
   "metadata": {},
   "outputs": [
    {
     "name": "stdout",
     "output_type": "stream",
     "text": [
      "axes\n",
      "[['C:/Users/rfernandez3/Documents/OpenHackImages/gear_imagesmod/axes/100172.jpeg', 'axes']]\n",
      "boots\n",
      "carabiners\n",
      "crampons\n",
      "gloves\n",
      "hardshell_jackets\n",
      "harnesses\n",
      "helmets\n",
      "insulated_jackets\n",
      "pulleys\n",
      "rope\n",
      "tents\n"
     ]
    }
   ],
   "source": [
    "import os\n",
    "import numpy as np\n",
    "from PIL import Image, ImageOps\n",
    "from sklearn.model_selection import train_test_split\n",
    "from sklearn.ensemble import RandomForestClassifier\n",
    "\n",
    "\n",
    "\n",
    "#from sklearn.datasets import make_classification\n",
    "f = []\n",
    "path =\"C:/Users/rfernandez3/Documents/OpenHackImages/gear_imagesmod/\"\n",
    "path_txt=\"C:/Users/rfernandez3/Documents/OpenHackImages/\"\n",
    "path_destination=path.replace('gear_images','gear_imagesmod')     \n",
    "listOfDirs = os.listdir(path)\n",
    "images=None\n",
    "labels=None\n",
    "tags=np.empty\n",
    "images_train=np.empty\n",
    "images_test=np.empty\n",
    "i=0\n",
    "files=0\n",
    "for l in listOfDirs:\n",
    "    print(l)\n",
    "    listOfFiles = os.listdir(str(path)+str(l))\n",
    "    tags=np.append(tags,l)\n",
    "    for lf in listOfFiles:\n",
    "        \n",
    "        if images is None:\n",
    "            images=[[path+l+'/'+lf,l]]\n",
    "            print(images)\n",
    "        else:\n",
    "            images=np.concatenate((images,[[path+l+'/'+lf,l]]),axis=0)\n",
    "X_train, X_test=train_test_split(images,train_size=0.8,test_size=0.2)\n",
    "saveTxt('train_map.txt',X_train)\n",
    "saveTxt('test_map.txt',X_test)\n",
    "\n"
   ]
  },
  {
   "cell_type": "code",
   "execution_count": 64,
   "metadata": {},
   "outputs": [
    {
     "data": {
      "text/plain": [
       "True"
      ]
     },
     "execution_count": 64,
     "metadata": {},
     "output_type": "execute_result"
    }
   ],
   "source": [
    "C.device.try_set_default_device(C.device.gpu(0))"
   ]
  },
  {
   "cell_type": "code",
   "execution_count": 56,
   "metadata": {},
   "outputs": [],
   "source": [
    "# Determine the data path for testing\n",
    "# Check for an environment variable defined in CNTK's test infrastructure\n",
    "envvar = 'CNTK_EXTERNAL_TESTDATA_SOURCE_DIRECTORY'\n",
    "def is_test(): return envvar in os.environ\n",
    "\n",
    "\n",
    "data_path = path_txt\n",
    "\n",
    "# model dimensions\n",
    "image_height = 128\n",
    "image_width  = 128\n",
    "num_channels = 3\n",
    "num_classes  = 12\n",
    "\n",
    "import cntk.io.transforms as xforms\n",
    "#\n",
    "# Define the reader for both training and evaluation action.\n",
    "#\n",
    "def create_reader(map_file, ):\n",
    "    print(\"Reading map file:\", map_file)\n",
    "    transforms = []\n",
    "    # train uses data augmentation (translation only)\n",
    "    \n",
    "    transforms += [\n",
    "        xforms.scale(width=image_width, height=image_height, channels=num_channels, interpolations='linear')\n",
    "    ]\n",
    "  \n",
    "   \n",
    "    # deserializer\n",
    "    return C.io.MinibatchSource(C.io.ImageDeserializer(map_file, C.io.StreamDefs(\n",
    "        features = C.io.StreamDef(field='image',transforms=transforms), # first column in map file is referred to as 'image'\n",
    "        labels   = C.io.StreamDef(field='label', shape=num_classes)      # and second as 'label'\n",
    "    )))"
   ]
  },
  {
   "cell_type": "code",
   "execution_count": 57,
   "metadata": {},
   "outputs": [
    {
     "name": "stdout",
     "output_type": "stream",
     "text": [
      "Reading map file: C:/Users/rfernandez3/Documents/OpenHackImages/train_map.txt\n",
      "Reading map file: C:/Users/rfernandez3/Documents/OpenHackImages/test_map.txt\n"
     ]
    }
   ],
   "source": [
    "# Create the train and test readers\n",
    "reader_train = create_reader(os.path.join(data_path, 'train_map.txt'))\n",
    "reader_test  = create_reader(os.path.join(data_path, 'test_map.txt'))"
   ]
  },
  {
   "cell_type": "code",
   "execution_count": 58,
   "metadata": {},
   "outputs": [],
   "source": [
    "def create_basic_model(input, out_dims):\n",
    "    with C.layers.default_options(init=C.glorot_uniform(), activation=C.relu):\n",
    "        net = C.layers.Convolution((5,5), 32, pad=True)(input)\n",
    "        net = C.layers.MaxPooling((3,3), strides=(2,2))(net)\n",
    "\n",
    "        net = C.layers.Convolution((5,5), 32, pad=True)(net)\n",
    "        net = C.layers.MaxPooling((3,3), strides=(2,2))(net)\n",
    "\n",
    "\n",
    "        net = C.layers.Dense(64)(net)\n",
    "        net = C.layers.Dense(out_dims, activation=None)(net)\n",
    "\n",
    "    return net"
   ]
  },
  {
   "cell_type": "code",
   "execution_count": 61,
   "metadata": {},
   "outputs": [],
   "source": [
    "#\n",
    "# Train and evaluate the network.\n",
    "#\n",
    "def train_and_evaluate(reader_train, reader_test, max_epochs, model_func):\n",
    "    # Input variables denoting the features and label data\n",
    "    input_var = C.input_variable((num_channels, image_height, image_width))\n",
    "    label_var = C.input_variable((num_classes))\n",
    "\n",
    "    # Normalize the input\n",
    "    feature_scale = 1.0 / 256.0\n",
    "    input_var_norm = C.element_times(feature_scale, input_var)\n",
    "\n",
    "    # apply model to input\n",
    "    z = model_func(input_var_norm, out_dims=12)\n",
    "\n",
    "    #\n",
    "    # Training action\n",
    "    #\n",
    "\n",
    "    # loss and metric\n",
    "    ce = C.cross_entropy_with_softmax(z, label_var)\n",
    "    pe = C.classification_error(z, label_var)\n",
    "\n",
    "    # training config\n",
    "    epoch_size     = 50000\n",
    "    minibatch_size = 64\n",
    "\n",
    "    # Set training parameters\n",
    "    lr_per_minibatch       = C.learning_parameter_schedule([0.01]*10 + [0.003]*10 + [0.001],\n",
    "                                                       epoch_size = epoch_size)\n",
    "    momentums              = C.momentum_schedule(0.9, minibatch_size = minibatch_size)\n",
    "    l2_reg_weight          = 0.001\n",
    "\n",
    "    # trainer object\n",
    "    learner = C.momentum_sgd(z.parameters,\n",
    "                             lr = lr_per_minibatch,\n",
    "                             momentum = momentums,\n",
    "                             l2_regularization_weight=l2_reg_weight)\n",
    "    progress_printer = C.logging.ProgressPrinter(tag='Training', num_epochs=max_epochs)\n",
    "    trainer = C.Trainer(z, (ce, pe), [learner], [progress_printer])\n",
    "\n",
    "    # define mapping from reader streams to network inputs\n",
    "    input_map = {\n",
    "        input_var: reader_train.streams.features,\n",
    "        label_var: reader_train.streams.labels\n",
    "    }\n",
    "\n",
    "    C.logging.log_number_of_parameters(z) ; print()\n",
    "\n",
    "    # perform model training\n",
    "    batch_index = 0\n",
    "    plot_data = {'batchindex':[], 'loss':[], 'error':[]}\n",
    "    for epoch in range(max_epochs):       # loop over epochs\n",
    "        sample_count = 0\n",
    "        while sample_count < epoch_size:  # loop over minibatches in the epoch\n",
    "            data = reader_train.next_minibatch(min(minibatch_size, epoch_size - sample_count),\n",
    "                                               input_map=input_map) # fetch minibatch.\n",
    "            trainer.train_minibatch(data)                                   # update model with it\n",
    "\n",
    "            sample_count += data[label_var].num_samples                     # count samples processed so far\n",
    "\n",
    "            # For visualization...\n",
    "            plot_data['batchindex'].append(batch_index)\n",
    "            plot_data['loss'].append(trainer.previous_minibatch_loss_average)\n",
    "            plot_data['error'].append(trainer.previous_minibatch_evaluation_average)\n",
    "\n",
    "            batch_index += 1\n",
    "        trainer.summarize_training_progress()\n",
    "\n",
    "    #\n",
    "    # Evaluation action\n",
    "    #\n",
    "    epoch_size     = 10000\n",
    "    minibatch_size = 16\n",
    "\n",
    "    # process minibatches and evaluate the model\n",
    "    metric_numer    = 0\n",
    "    metric_denom    = 0\n",
    "    sample_count    = 0\n",
    "    minibatch_index = 0\n",
    "\n",
    "    while sample_count < epoch_size:\n",
    "        current_minibatch = min(minibatch_size, epoch_size - sample_count)\n",
    "\n",
    "        # Fetch next test min batch.\n",
    "        data = reader_test.next_minibatch(current_minibatch, input_map=input_map)\n",
    "\n",
    "        # minibatch data to be trained with\n",
    "        metric_numer += trainer.test_minibatch(data) * current_minibatch\n",
    "        metric_denom += current_minibatch\n",
    "\n",
    "        # Keep track of the number of samples processed so far.\n",
    "        sample_count += data[label_var].num_samples\n",
    "        minibatch_index += 1\n",
    "\n",
    "    print(\"\")\n",
    "    print(\"Final Results: Minibatch[1-{}]: errs = {:0.1f}% * {}\".format(minibatch_index+1, (metric_numer*100.0)/metric_denom, metric_denom))\n",
    "    print(\"\")\n",
    "\n",
    "    # Visualize training result:\n",
    "    window_width            = 32\n",
    "    loss_cumsum             = np.cumsum(np.insert(plot_data['loss'], 0, 0))\n",
    "    error_cumsum            = np.cumsum(np.insert(plot_data['error'], 0, 0))\n",
    "\n",
    "    # Moving average.\n",
    "    plot_data['batchindex'] = np.insert(plot_data['batchindex'], 0, 0)[window_width:]\n",
    "    plot_data['avg_loss']   = (loss_cumsum[window_width:] - loss_cumsum[:-window_width]) / window_width\n",
    "    plot_data['avg_error']  = (error_cumsum[window_width:] - error_cumsum[:-window_width]) / window_width\n",
    "\n",
    "    plt.figure(1)\n",
    "    plt.subplot(211)\n",
    "    plt.plot(plot_data[\"batchindex\"], plot_data[\"avg_loss\"], 'b--')\n",
    "    plt.xlabel('Minibatch number')\n",
    "    plt.ylabel('Loss')\n",
    "    plt.title('Minibatch run vs. Training loss ')\n",
    "\n",
    "    plt.show()\n",
    "\n",
    "    plt.subplot(212)\n",
    "    plt.plot(plot_data[\"batchindex\"], plot_data[\"avg_error\"], 'r--')\n",
    "    plt.xlabel('Minibatch number')\n",
    "    plt.ylabel('Label Prediction Error')\n",
    "    plt.title('Minibatch run vs. Label Prediction Error ')\n",
    "    plt.show()\n",
    "\n",
    "    return C.softmax(z)"
   ]
  },
  {
   "cell_type": "code",
   "execution_count": 65,
   "metadata": {},
   "outputs": [
    {
     "name": "stdout",
     "output_type": "stream",
     "text": [
      "Training 1997036 parameters in 8 parameter tensors.\n",
      "\n",
      "Learning rate per minibatch: 0.01\n",
      "Momentum per 64 samples: 0.9\n",
      "Finished Epoch[1 of 5]: [Training] loss = 0.511108 * 50000, metric = 16.72% * 50000 113.682s (439.8 samples/s);\n",
      "Finished Epoch[2 of 5]: [Training] loss = 0.028160 * 50000, metric = 0.52% * 50000 113.891s (439.0 samples/s);\n",
      "Finished Epoch[3 of 5]: [Training] loss = 0.008405 * 50000, metric = 0.12% * 50000 114.927s (435.1 samples/s);\n",
      "Finished Epoch[4 of 5]: [Training] loss = 0.005928 * 50000, metric = 0.10% * 50000 116.348s (429.7 samples/s);\n",
      "Finished Epoch[5 of 5]: [Training] loss = 0.004686 * 50000, metric = 0.09% * 50000 117.852s (424.3 samples/s);\n",
      "\n",
      "Final Results: Minibatch[1-626]: errs = 11.7% * 10000\n",
      "\n"
     ]
    },
    {
     "data": {
      "image/png": "[encoded data removed]",
      "text/plain": [
       "<Figure size 432x288 with 1 Axes>"
      ]
     },
     "metadata": {},
     "output_type": "display_data"
    },
    {
     "data": {
      "image/png": "[encoded data removed]",
      "text/plain": [
       "<Figure size 432x288 with 1 Axes>"
      ]
     },
     "metadata": {},
     "output_type": "display_data"
    }
   ],
   "source": [
    "pred = train_and_evaluate(reader_train,\n",
    "                          reader_test,\n",
    "                          max_epochs=5,\n",
    "                          model_func=create_basic_model)"
   ]
  },
  {
   "cell_type": "code",
   "execution_count": 71,
   "metadata": {},
   "outputs": [],
   "source": [
    "url='C:/Users/rfernandez3/Documents/OpenHackImages/gear_imagesmod/rope/10373911x1013041_zm.jpeg'\n",
    "myimg = np.array(PIL.Image.open(url), dtype=np.float32)"
   ]
  },
  {
   "cell_type": "code",
   "execution_count": 68,
   "metadata": {},
   "outputs": [],
   "source": [
    "def eval(pred_op, image_data):\n",
    "    label_lookup = labels_master\n",
    "    image_mean = 133.0\n",
    "    image_data -= image_mean\n",
    "    image_data = np.ascontiguousarray(np.transpose(image_data, (2, 0, 1)))\n",
    "\n",
    "    result = np.squeeze(pred_op.eval({pred_op.arguments[0]:[image_data]}))\n",
    "\n",
    "    # Return top 3 results:\n",
    "    top_count = 3\n",
    "    result_indices = (-np.array(result)).argsort()[:top_count]\n",
    "\n",
    "    print(\"Top 3 predictions:\")\n",
    "    for i in range(top_count):\n",
    "        print(\"\\tLabel: {:10s}, confidence: {:.2f}%\".format(label_lookup[result_indices[i]], result[result_indices[i]] * 100))"
   ]
  },
  {
   "cell_type": "code",
   "execution_count": 72,
   "metadata": {},
   "outputs": [
    {
     "name": "stdout",
     "output_type": "stream",
     "text": [
      "Top 3 predictions:\n",
      "\tLabel: rope      , confidence: 94.44%\n",
      "\tLabel: insulated_jackets, confidence: 3.53%\n",
      "\tLabel: gloves    , confidence: 1.94%\n"
     ]
    }
   ],
   "source": [
    "eval(pred, myimg)"
   ]
  },
  {
   "cell_type": "code",
   "execution_count": 80,
   "metadata": {},
   "outputs": [],
   "source": [
    "pred.save('cntkmodelbasic.dnn')"
   ]
  },
  {
   "cell_type": "code",
   "execution_count": null,
   "metadata": {},
   "outputs": [],
   "source": []
  }
 ],
 "metadata": {
  "kernelspec": {
   "display_name": "Python 3",
   "language": "python",
   "name": "python3"
  },
  "language_info": {
   "codemirror_mode": {
    "name": "ipython",
    "version": 3
   },
   "file_extension": ".py",
   "mimetype": "text/x-python",
   "name": "python",
   "nbconvert_exporter": "python",
   "pygments_lexer": "ipython3",
   "version": "3.5.2"
  }
 },
 "nbformat": 4,
 "nbformat_minor": 2
}
