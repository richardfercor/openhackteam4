{
 "cells": [
  {
   "cell_type": "code",
   "execution_count": 21,
   "metadata": {},
   "outputs": [
    {
     "name": "stdout",
     "output_type": "stream",
     "text": [
      "axes\n",
      "boots\n",
      "carabiners\n",
      "crampons\n",
      "gloves\n",
      "hardshell_jackets\n",
      "harnesses\n",
      "helmets\n",
      "insulated_jackets\n",
      "pulleys\n",
      "rope\n",
      "tents\n"
     ]
    },
    {
     "data": {
      "image/png": "[encoded data removed]",
      "text/plain": [
       "<Figure size 432x288 with 1 Axes>"
      ]
     },
     "metadata": {},
     "output_type": "display_data"
    }
   ],
   "source": [
    "import os\n",
    "import numpy as np\n",
    "from PIL import Image, ImageOps\n",
    "from shutil import copyfile\n",
    "import matplotlib.pyplot as plt\n",
    "\n",
    "f = []\n",
    "path =\"C:/Users/rfernandez3/Documents/OpenHack/gear_images/\"\n",
    "path_destination=path.replace('gear_images','gear_imagesmod')\n",
    "try:\n",
    "    os.stat(path_destination)\n",
    "except:\n",
    "    os.mkdir(path_destination)     \n",
    "\n",
    "listOfDirs = os.listdir(path)\n",
    "for l in listOfDirs:\n",
    "    print(l)\n",
    "    listOfFiles = os.listdir(str(path)+str(l))\n",
    "    try:\n",
    "        os.stat(path_destination+l+'/')\n",
    "    except:\n",
    "        os.mkdir(path_destination+l+'/')  \n",
    "    for lf in listOfFiles:\n",
    "        original_image=Image.open(path+l+'/'+lf).convert('RGB')\n",
    "        width,height=original_image.size\n",
    "        if(width!=height):\n",
    "            num=max(width, height)\n",
    "            a4im = Image.new('RGB',\n",
    "                             (num, num),  \n",
    "                             (255, 255, 255))  # White\n",
    "            try:\n",
    "                a4im.paste(original_image, original_image.getbbox())  # Not centered, top-left corner\n",
    "            except:\n",
    "                print(path+l+'/'+lf)\n",
    "            \n",
    "            \n",
    "            imgpad=a4im\n",
    "        else:\n",
    "            imgpad=original_image\n",
    "        imgresized=imgpad.resize((128,128),Image.NEAREST)\n",
    "        imgnp = np.asarray(imgresized)\n",
    "        #plt.imshow(imgnp)\n",
    "        #plt.hist(imgnp.ravel())\n",
    "        img_pil = Image.fromarray(np.uint8(imgnp))\n",
    "        img_pil = ImageOps.equalize(img_pil)\n",
    "       # plt.imshow(img_pil)\n",
    "        img2 = np.asarray(img_pil)\n",
    "        plt.hist(img2.ravel())\n",
    "        break\n",
    "        #imgresized.save(path_destination+l+'/'+lf, 'JPEG', quality=100)"
   ]
  },
  {
   "cell_type": "code",
   "execution_count": null,
   "metadata": {},
   "outputs": [],
   "source": []
  },
  {
   "cell_type": "code",
   "execution_count": null,
   "metadata": {},
   "outputs": [],
   "source": []
  },
  {
   "cell_type": "code",
   "execution_count": null,
   "metadata": {},
   "outputs": [],
   "source": []
  },
  {
   "cell_type": "code",
   "execution_count": null,
   "metadata": {},
   "outputs": [],
   "source": []
  },
  {
   "cell_type": "code",
   "execution_count": null,
   "metadata": {},
   "outputs": [],
   "source": []
  }
 ],
 "metadata": {
  "kernelspec": {
   "display_name": "Python 3",
   "language": "python",
   "name": "python3"
  }
 },
 "nbformat": 4,
 "nbformat_minor": 2
}
